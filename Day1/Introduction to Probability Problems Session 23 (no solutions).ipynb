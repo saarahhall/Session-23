{
 "cells": [
  {
   "cell_type": "markdown",
   "id": "76cddb45",
   "metadata": {},
   "source": [
    "# Introduction to Probability - Problems\n",
    "\n",
    "### In this notebook, we'll work through some classic probability problems. Some will be \"easiest\" to implement in python, while others are best done with pen & paper."
   ]
  },
  {
   "cell_type": "markdown",
   "id": "978d7eb3",
   "metadata": {},
   "source": [
    "### Problem 1: The Birthday Problem\n",
    "\n",
    "A classic calculation is to calculate the probability that two people in today's DSFP session share the same birthday. You can approximate the number of people in the room as n=40 (~35 students, ~3 guest instructions, 1 slightly overwhelmed postdoc, and 1 Northwestern faculty member)."
   ]
  },
  {
   "cell_type": "markdown",
   "id": "bc425741",
   "metadata": {},
   "source": [
    "### Problem 1a: Is it easier to calculate this probabiltiy directly or by some other method? Discuss with those around you. "
   ]
  },
  {
   "cell_type": "code",
   "execution_count": null,
   "id": "7dbe271b",
   "metadata": {},
   "outputs": [],
   "source": [
    "# likely easier to calculate using some other (analytical method), since there are 40 people,\n",
    "# I would expect more than 40 terms in a directly-written formula"
   ]
  },
  {
   "cell_type": "markdown",
   "id": "59d8c102",
   "metadata": {},
   "source": [
    "### Problem 1b: What is the probability that no two people in the room share the same birthday? "
   ]
  },
  {
   "cell_type": "code",
   "execution_count": null,
   "id": "2c04c227",
   "metadata": {},
   "outputs": [],
   "source": [
    "# leap day consideration\n",
    "(365) <- events w equal probability\n",
    "(1) <- event w prob 1/(4 * 365)"
   ]
  },
  {
   "cell_type": "code",
   "execution_count": null,
   "id": "bcd73d2d",
   "metadata": {},
   "outputs": [
    {
     "data": {
      "text/plain": [
       "1.0"
      ]
     },
     "execution_count": 1,
     "metadata": {},
     "output_type": "execute_result"
    }
   ],
   "source": [
    "## ignoring leap day\n",
    "# each birthday has the same probability\n",
    "prob_bday = 1/365\n",
    "\n",
    "tot_bdays = 365\n",
    "tot_bdays * prob_bday # should = 1"
   ]
  },
  {
   "cell_type": "code",
   "execution_count": null,
   "id": "73c03efd",
   "metadata": {},
   "outputs": [],
   "source": [
    "n = 2 # say there's 2 people\n",
    "\n",
    "prob_notsame_bday = (1/365) * (1/(365 - 1)) # 2 terms (=n)\n",
    "\n",
    "n = 3 # say there's 3 people\n",
    "prob_notsame_bday = (1/365) * (1/(365-1)) * (1/(365-2)) # 3 terms (=n)"
   ]
  },
  {
   "cell_type": "markdown",
   "id": "85f3aa9f",
   "metadata": {},
   "source": [
    "$$P_{nosame} = \\frac{1}{365}\\Pi_{1}^{n}\\frac{365 - n}{365}$$"
   ]
  },
  {
   "cell_type": "code",
   "execution_count": 40,
   "id": "6d35160d",
   "metadata": {},
   "outputs": [
    {
     "name": "stdout",
     "output_type": "stream",
     "text": [
      "probability that in a room of 40 people, no 2 people share a birthday: 0.10876819018205097\n"
     ]
    },
    {
     "data": {
      "text/plain": [
       "0.10876819018205097"
      ]
     },
     "execution_count": 40,
     "metadata": {},
     "output_type": "execute_result"
    }
   ],
   "source": [
    "def prob_unique_bday(n):\n",
    "    '''calculate the probability that no 2 people in a room of n people have the same birthday'''\n",
    "    prob = (365/365) # the first person's probability of ~having a birthday~ \n",
    "    for N in range (1,n):\n",
    "        prob *= ((365-N)/(365)) # each other person has a different birthday (remove one day from year as an option, for each person)\n",
    "    print(f'probability that in a room of {n} people, no 2 people share a birthday: {prob}')                    \n",
    "    return prob\n",
    "\n",
    "\n",
    "prob_unique_bday(40)"
   ]
  },
  {
   "cell_type": "code",
   "execution_count": 71,
   "id": "6b80623d",
   "metadata": {},
   "outputs": [],
   "source": [
    "# Iterative approach\n",
    "def factorial_iterative(n):\n",
    "    if not isinstance(n, int) or n < 0:\n",
    "        raise ValueError(\"Input must be a non-negative integer\")\n",
    "    result = 1\n",
    "    for i in range(1, n + 1):\n",
    "        result *= i\n",
    "    return result"
   ]
  },
  {
   "cell_type": "code",
   "execution_count": 69,
   "id": "1fa67133",
   "metadata": {},
   "outputs": [
    {
     "data": {
      "text/plain": [
       "1"
      ]
     },
     "execution_count": 69,
     "metadata": {},
     "output_type": "execute_result"
    }
   ],
   "source": [
    "factorial_iterative(0)"
   ]
  },
  {
   "cell_type": "code",
   "execution_count": 75,
   "id": "01388b57",
   "metadata": {},
   "outputs": [
    {
     "data": {
      "text/plain": [
       "[2.0, 6.0, 12.0, 20.0]"
      ]
     },
     "execution_count": 75,
     "metadata": {},
     "output_type": "execute_result"
    }
   ],
   "source": [
    "# 5 people: 10 ways to be 2 ppl\n",
    "# 4 people: 6 ways to be 2 ppl\n",
    "# 3 people: 3 ways to be 2 ppl\n",
    "# 2 people: 1 way to be 2 ppl\n",
    "\n",
    "def num_possible_duos(n):\n",
    "    \n",
    "    return factorial_iterative(n) / (factorial_iterative(n-2))\n",
    "\n",
    "[num_possible_duos(n) for n in range(2,6)]"
   ]
  },
  {
   "cell_type": "code",
   "execution_count": 41,
   "id": "29d05ea4",
   "metadata": {},
   "outputs": [
    {
     "name": "stdout",
     "output_type": "stream",
     "text": [
      "probability that in a room of 2 people, no 2 people share a birthday: 0.9972602739726028\n"
     ]
    },
    {
     "data": {
      "text/plain": [
       "0.9972602739726028"
      ]
     },
     "execution_count": 41,
     "metadata": {},
     "output_type": "execute_result"
    }
   ],
   "source": [
    "prob_unique_bday(2)"
   ]
  },
  {
   "cell_type": "code",
   "execution_count": 51,
   "id": "5c9a404a",
   "metadata": {},
   "outputs": [
    {
     "name": "stdout",
     "output_type": "stream",
     "text": [
      "probability that in a room of 2 people, 2 people share a birthday: 0.005479452054794521\n"
     ]
    },
    {
     "data": {
      "text/plain": [
       "0.005479452054794521"
      ]
     },
     "execution_count": 51,
     "metadata": {},
     "output_type": "execute_result"
    }
   ],
   "source": [
    "def prob_2same_bday(n):\n",
    "    '''calculate the probability that 2 people in a room of n people have the same birthday'''\n",
    "    prob_share_between_duo = (365/365) * (1/365)\n",
    "    num_duos = num_possible_duos(n)\n",
    "    prob = prob_share_between_duo * num_duos\n",
    "    print(f'probability that in a room of {n} people, 2 people share a birthday: {prob}')     \n",
    "    return prob\n",
    "\n",
    "prob_2same_bday(2)"
   ]
  },
  {
   "cell_type": "code",
   "execution_count": 44,
   "id": "2f89a322",
   "metadata": {},
   "outputs": [
    {
     "name": "stdout",
     "output_type": "stream",
     "text": [
      "probability that in a room of 2 people, no 2 people share a birthday: 0.9972602739726028\n",
      "probability that in a room of 2 people, 2 people share a birthday: 0.0027397260273972603\n"
     ]
    },
    {
     "data": {
      "text/plain": [
       "1.0"
      ]
     },
     "execution_count": 44,
     "metadata": {},
     "output_type": "execute_result"
    }
   ],
   "source": [
    "prob_unique_bday(2) + prob_2same_bday(2)"
   ]
  },
  {
   "cell_type": "code",
   "execution_count": 46,
   "id": "8cc2494b",
   "metadata": {},
   "outputs": [
    {
     "name": "stdout",
     "output_type": "stream",
     "text": [
      "probability that in a room of 40 people, no 2 people share a birthday: 0.10876819018205097\n",
      "probability that in a room of 40 people, 2 people share a birthday: 1.1764630355414492e-100\n"
     ]
    },
    {
     "data": {
      "text/plain": [
       "0.10876819018205097"
      ]
     },
     "execution_count": 46,
     "metadata": {},
     "output_type": "execute_result"
    }
   ],
   "source": [
    "prob_unique_bday(40) + prob_2same_bday(40)"
   ]
  },
  {
   "cell_type": "code",
   "execution_count": null,
   "id": "afe882fd",
   "metadata": {},
   "outputs": [],
   "source": [
    "prob_leapday = 1 / (4 * 365)"
   ]
  },
  {
   "cell_type": "markdown",
   "id": "b07f2047",
   "metadata": {},
   "source": [
    "### Problem 1c: Using your answer to 1b, plot the probability of two people sharing the same birthday as a function of the number of people in the room. At what value of n does the probability exceed 50%? Is this result surprising to you?\n",
    "\n",
    "Hint: you may need the approximation that $(1 + x) \\approx e^x$ for |x|<<1."
   ]
  },
  {
   "cell_type": "code",
   "execution_count": 27,
   "id": "bf25ff3c",
   "metadata": {},
   "outputs": [],
   "source": [
    "import numpy as np"
   ]
  },
  {
   "cell_type": "code",
   "execution_count": null,
   "id": "9925a8f7",
   "metadata": {},
   "outputs": [
    {
     "ename": "TypeError",
     "evalue": "only integer scalar arrays can be converted to a scalar index",
     "output_type": "error",
     "traceback": [
      "\u001b[0;31m---------------------------------------------------------------------------\u001b[0m",
      "\u001b[0;31mTypeError\u001b[0m                                 Traceback (most recent call last)",
      "Cell \u001b[0;32mIn[29], line 2\u001b[0m\n\u001b[1;32m      1\u001b[0m num_people_range \u001b[38;5;241m=\u001b[39m np\u001b[38;5;241m.\u001b[39marange(\u001b[38;5;241m0\u001b[39m,\u001b[38;5;241m50\u001b[39m)\n\u001b[0;32m----> 2\u001b[0m \u001b[43mprob_notsame_bday\u001b[49m\u001b[43m(\u001b[49m\u001b[43mnum_people_range\u001b[49m\u001b[43m)\u001b[49m\n",
      "Cell \u001b[0;32mIn[25], line 4\u001b[0m, in \u001b[0;36mprob_notsame_bday\u001b[0;34m(n)\u001b[0m\n\u001b[1;32m      2\u001b[0m \u001b[38;5;250m\u001b[39m\u001b[38;5;124;03m'''calculate the probability that no 2 people in a room of n people have the same birthday'''\u001b[39;00m\n\u001b[1;32m      3\u001b[0m prob \u001b[38;5;241m=\u001b[39m (\u001b[38;5;241m365\u001b[39m\u001b[38;5;241m/\u001b[39m\u001b[38;5;241m365\u001b[39m) \u001b[38;5;66;03m# the first person's probability of ~having a birthday~ \u001b[39;00m\n\u001b[0;32m----> 4\u001b[0m \u001b[38;5;28;01mfor\u001b[39;00m N \u001b[38;5;129;01min\u001b[39;00m \u001b[38;5;28;43mrange\u001b[39;49m\u001b[43m \u001b[49m\u001b[43m(\u001b[49m\u001b[38;5;241;43m1\u001b[39;49m\u001b[43m,\u001b[49m\u001b[43mn\u001b[49m\u001b[43m)\u001b[49m:\n\u001b[1;32m      5\u001b[0m     prob \u001b[38;5;241m*\u001b[39m\u001b[38;5;241m=\u001b[39m ((\u001b[38;5;241m365\u001b[39m\u001b[38;5;241m-\u001b[39mN)\u001b[38;5;241m/\u001b[39m(\u001b[38;5;241m365\u001b[39m)) \u001b[38;5;66;03m# each other person has\u001b[39;00m\n\u001b[1;32m      6\u001b[0m \u001b[38;5;28mprint\u001b[39m(\u001b[38;5;124mf\u001b[39m\u001b[38;5;124m'\u001b[39m\u001b[38;5;124mprobability that in a room of \u001b[39m\u001b[38;5;132;01m{\u001b[39;00mn\u001b[38;5;132;01m}\u001b[39;00m\u001b[38;5;124m people, no 2 people share a birthday: \u001b[39m\u001b[38;5;124m'\u001b[39m)                    \n",
      "\u001b[0;31mTypeError\u001b[0m: only integer scalar arrays can be converted to a scalar index"
     ]
    }
   ],
   "source": [
    "num_people_range = np.arange(0,50)\n",
    "prob_notsame_bday(num_people_range)"
   ]
  },
  {
   "cell_type": "markdown",
   "id": "c23f82f6",
   "metadata": {},
   "source": [
    "### Bonus Problem (to be completed in the lunch break): Find at least two DSFP attendees who share the same birthday. "
   ]
  },
  {
   "cell_type": "markdown",
   "id": "ce9ffe15",
   "metadata": {},
   "source": [
    "### [Pen & Paper] Problem 2: The Monty Hall Problem\n",
    "\n",
    "Another classic problem comes from the Monty Hall gameshow. On this game show, contestants are first asked to pick between several doors. Behind one of the doors is a large prize (a car, dream vacation, etc.) while the contestant goes home empty handed if they pick either of the other doors. The gameshow host then opens one of the doors that does not contain the prize. \n",
    "\n",
    "Now the clever bit. The contestant is then asked if they want to change their original choice of door for the other closed door. Your task is to make this choice for them. Assume for this problem that the context picks a door labelled n=1 and that the prize is contained behind door n=k. \n",
    "\n",
    "### Problem 2a) Getting started: applying the Principle of Indifference\n",
    "\n",
    "Before any doors are open, what is the conditional probability that the nth door contains a prize? \n",
    "\n",
    "\n",
    "\n",
    "### Problem 2b) Conditioning on data\n",
    "\n",
    "Use the Bayes rule to write down the probability that the prize is behind the first door given observed doors $\\{d_k\\}$, k < n do not contain the prize. \n",
    "\n",
    "\n",
    "Then write down the probability that the kth door remains unopened given that $H_1$ is true.\n",
    "\n",
    "\n",
    "\n",
    "### Problem 2c) Law of total probability \n",
    "\n",
    "Use the law of total probability to write down an expression for the probability of observing $\\{d_k\\}$ open doors (w/o) prizes.\n",
    "\n",
    "\n",
    "### Problem 2d) The key idea\n",
    "\n",
    "Write down the probability that the kth door stays unopened given that H_i = the hypothesis that the ith door contains the prize remains unopened. \n",
    "\n",
    "\n",
    "\n",
    "### Problem 2e) Should the contestant switch doors?\n",
    "\n",
    "Combine your answer to 2b) and 2d) to give the probability that the prize is behind the first door. Then use the axioms of probability theory to compute the probability that the prize is behind the final (kth) door. Should the person switch?"
   ]
  },
  {
   "cell_type": "markdown",
   "id": "8a5c6c3c",
   "metadata": {},
   "source": [
    "### Problem 3: Boolean Logic\n",
    "\n",
    "An alternative interpretation of probability theory is that it represents an extension of classical logic to possibilities or plausibilities. In this sense, probability theory is a new kind of logic, and not statements about long run frequencies of events. In this problem, you'll explore the boolean logic that forms the basis for this perspective. While interesting for the development of probability theory, these are also useful skills for general programming tasks. \n",
    "\n",
    "We define the logical product and denote it by the symbol AB, which means that both propositions A and B are true. \n",
    "\n",
    "We define the logical sum and denote it by the symbol A + B, which means that at least one of the proopsitions A, or B is true. A + B = B + A. \n",
    "\n",
    "### Problem 3a) Generate two arrays, A and B, with randomly distributed numbers.\n",
    "\n",
    "### Problem 3b) Create two arrays, one consisting of booleans when the value of the A array and B array are > 0.5 \n",
    "\n",
    "### Problem 3c) Use the arrays from 3b) to create an array consisting only of the values in A where both A and B are greater than 0.5\n",
    "\n",
    "### Problem 3d) Do the same, except for where either A or B are greater than 0.5. "
   ]
  },
  {
   "cell_type": "markdown",
   "id": "743b4a42",
   "metadata": {},
   "source": [
    "## Problem 4: Probability Transformations in Astronomy\n",
    "\n",
    "This example comes from the AstroML book, and is a famous example of where a common transformation in astronomy does not preserve all of the properties of the underlying distribution. \n",
    "\n",
    "### Problem 4a) Generate some underlying normally distributed flux data\n",
    "\n",
    "Hint: you can do this most easily with scipy.stats.norm(), norm.rvs. Your life in 4d) will be slightly easier if you generate an odd number of samples.\n",
    "\n",
    "### Problem 4b) Transform fluxes to magnitudes\n",
    "\n",
    "The magnitude of a source is defined as mag $= -2.5 \\log_{10}(F)$. transform your normally distributed flux data to magnitudes. \n",
    "\n",
    "### Problem 4c) Plot your results\n",
    "\n",
    "Plot the flux and magnitude distribution. How has the transformation changed the shape of the distribution?\n",
    "\n",
    "### Problem 4d) Cumulative Distribution Function\n",
    "\n",
    "Plot the CDF of each distribution and discuss the properties of the CDF. Then compute the 25th, 50th, and 75th percentiles of both distributions and determine what data point each maps to. The CDF, median, and percentiles form the basis for many statistical tests of distribution similarity."
   ]
  },
  {
   "cell_type": "markdown",
   "id": "e5fe09e1",
   "metadata": {},
   "source": [
    "### Challenge Problem: From where does randomness come from?"
   ]
  },
  {
   "cell_type": "markdown",
   "id": "349416df",
   "metadata": {},
   "source": [
    "As astronomers, we know that there are two exclusively correct theories of nature. Classical mechanics and general relativity and no others. Given that both of these theories are deterministic, from where does randomnness come from? \n",
    "\n",
    "One way that people have approached this question is by positing that randomness (or probability) are empirical facts - something we see in the behaivor of a rolled die or a flipped coin. In fact, if we flip a coin a large number of times, it does approach a 1/2 H 1/2 T distribution. \n",
    "\n",
    "This has never quite made sense to me. We assume that both outcomes are equally likely based on the principle of indifference. But a coin is not in an indifferent starting state - one side is typically face up before you flip it. How can we explain the equally likely outcomes?\n",
    "\n",
    "Start by writing down the equations of motion for the coin as it moves through the air (and rotates). Once you have done that, plot the 'pre-image' (space of initial conditions) that lead to H and T outcomes. Explain why coins have a 1/2 H and 1/2 T long-run distribution and speculate on the origin of randomness. "
   ]
  }
 ],
 "metadata": {
  "kernelspec": {
   "display_name": "DSFP",
   "language": "python",
   "name": "python3"
  },
  "language_info": {
   "codemirror_mode": {
    "name": "ipython",
    "version": 3
   },
   "file_extension": ".py",
   "mimetype": "text/x-python",
   "name": "python",
   "nbconvert_exporter": "python",
   "pygments_lexer": "ipython3",
   "version": "3.8.20"
  }
 },
 "nbformat": 4,
 "nbformat_minor": 5
}
